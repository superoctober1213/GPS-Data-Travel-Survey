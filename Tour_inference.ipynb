{
 "cells": [
  {
   "cell_type": "code",
   "execution_count": 1,
   "metadata": {},
   "outputs": [],
   "source": [
    "import pandas as pd \n",
    "import datetime\n",
    "from shapely import wkt, Point\n",
    "from tqdm import tqdm"
   ]
  },
  {
   "cell_type": "code",
   "execution_count": 2,
   "metadata": {},
   "outputs": [],
   "source": [
    "tripleg = pd.read_csv('triplegs.csv')\n",
    "stop_df = pd.read_csv('staypoints.csv')\n",
    "food_sp_df = pd.read_csv('200m_food_related_stop.csv')"
   ]
  },
  {
   "cell_type": "code",
   "execution_count": 3,
   "metadata": {},
   "outputs": [],
   "source": [
    "stop_df['started_at'] = pd.to_datetime(stop_df['started_at'])\n",
    "stop_df['finished_at'] = pd.to_datetime(stop_df['finished_at'])\n",
    "tripleg['finished_at'] = pd.to_datetime(tripleg['finished_at'])\n",
    "tripleg['started_at'] = pd.to_datetime(tripleg['started_at'])"
   ]
  },
  {
   "cell_type": "code",
   "execution_count": 4,
   "metadata": {},
   "outputs": [],
   "source": [
    "stop_df['continuous_check'] = ((stop_df['user_id'] == stop_df['user_id'].shift()) & (stop_df['started_at'] == stop_df['finished_at'].shift())).astype(int)"
   ]
  },
  {
   "cell_type": "code",
   "execution_count": 5,
   "metadata": {},
   "outputs": [
    {
     "data": {
      "text/plain": [
       "432640"
      ]
     },
     "execution_count": 5,
     "metadata": {},
     "output_type": "execute_result"
    }
   ],
   "source": [
    "len(stop_df)"
   ]
  },
  {
   "cell_type": "code",
   "execution_count": 6,
   "metadata": {},
   "outputs": [
    {
     "data": {
      "text/plain": [
       "51663"
      ]
     },
     "execution_count": 6,
     "metadata": {},
     "output_type": "execute_result"
    }
   ],
   "source": [
    "ID_list=food_sp_df['id'].unique()\n",
    "len(ID_list)"
   ]
  },
  {
   "cell_type": "code",
   "execution_count": 7,
   "metadata": {},
   "outputs": [],
   "source": [
    "def find_trip_before(stay_point_id, time_window = 15):\n",
    "    time_window = datetime.timedelta(minutes=time_window)\n",
    "    sp = stop_df[stop_df['id'] == stay_point_id]\n",
    "    stop_of_user = stop_df[(stop_df['user_id'] == sp.iloc[0]['user_id']) & (stop_df['id'] <= stay_point_id)]\n",
    "    related_tripled_by_user = tripleg[tripleg['user_id'] == sp.iloc[0]['user_id']]\n",
    "    \n",
    "    trip_traveled = []\n",
    "    stop_point_traveled = []\n",
    "    # temp_stop_list = []\n",
    "\n",
    "    i = len(stop_of_user) - 1\n",
    "    while i >= 0 and stop_of_user.iloc[i]['continuous_check'] == 1:\n",
    "        stop_point_traveled.insert(0, stop_of_user.iloc[i]['id'])\n",
    "        # temp_stop_list.insert(0, stop_of_user.iloc[i]['id'])\n",
    "        i -= 1\n",
    "    # if len(temp_stop_list) == 0: temp_stop_list.append(stay_point_id)\n",
    "\n",
    "    while i >= 0:\n",
    "\n",
    "        tripled_found = related_tripled_by_user[\n",
    "            (related_tripled_by_user['finished_at'] > stop_of_user.iloc[i]['started_at'] - time_window) &\n",
    "            (related_tripled_by_user['finished_at'] <= stop_of_user.iloc[i]['started_at'])]\n",
    "        \n",
    "        #try to find trip\n",
    "        if len(tripled_found) > 0:\n",
    "            if len(tripled_found) > 1: tripled_found = tripled_found.nlargest(1, 'finished_at')\n",
    "            trip_traveled.insert(0, tripled_found.iloc[0]['id'])\n",
    "        #in this case, no trip or stop point were found, end program.\n",
    "        elif i - 1 >= 0 and stop_of_user.iloc[i]['started_at'] - stop_of_user.iloc[i - 1]['finished_at'] > time_window: \n",
    "            stop_point_traveled.insert(0, stop_of_user.iloc[i]['id'])\n",
    "            break\n",
    "        \n",
    "        # if len(temp_stop_list) == 0: temp_stop_list.insert(0, stop_of_user.iloc[i]['id'])\n",
    "        # temp_stop_list = []\n",
    "        stop_point_traveled.insert(0, stop_of_user.iloc[i]['id'])\n",
    "\n",
    "        i -= 1\n",
    "        if len(tripled_found) > 0 and tripled_found.iloc[0]['started_at'] != stop_of_user.iloc[i]['finished_at']: break\n",
    "\n",
    "        while i >= 0 and stop_of_user.iloc[i]['continuous_check'] == 1:\n",
    "            # temp_stop_list.insert(0, stop_of_user.iloc[i]['id'])\n",
    "            stop_point_traveled.insert(0, stop_of_user.iloc[i]['id'])\n",
    "            i -= 1\n",
    "            \n",
    "    if len(trip_traveled) == 0: return None\n",
    "    fist_trip = related_tripled_by_user[related_tripled_by_user['id'] == trip_traveled[0]]\n",
    "    data_to_append = {'deviceID': sp.iloc[0]['user_id'], 'tripleg_ID': trip_traveled, \n",
    "                          'trip_start_location': Point(list(wkt.loads(fist_trip.iloc[0]['geom']).coords)[0]),\n",
    "                          'trip_end_location': sp.iloc[0]['geom'],\n",
    "                          'trip_start_timestamp': fist_trip.iloc[0]['started_at'],\n",
    "                          'trip_end_timestamp': sp.iloc[0]['finished_at'],\n",
    "                          'stop_point_between_trips': stop_point_traveled}\n",
    "\n",
    "    return data_to_append"
   ]
  },
  {
   "cell_type": "code",
   "execution_count": 12,
   "metadata": {},
   "outputs": [
    {
     "data": {
      "text/html": [
       "<div>\n",
       "<style scoped>\n",
       "    .dataframe tbody tr th:only-of-type {\n",
       "        vertical-align: middle;\n",
       "    }\n",
       "\n",
       "    .dataframe tbody tr th {\n",
       "        vertical-align: top;\n",
       "    }\n",
       "\n",
       "    .dataframe thead th {\n",
       "        text-align: right;\n",
       "    }\n",
       "</style>\n",
       "<table border=\"1\" class=\"dataframe\">\n",
       "  <thead>\n",
       "    <tr style=\"text-align: right;\">\n",
       "      <th></th>\n",
       "      <th>id</th>\n",
       "      <th>user_id</th>\n",
       "      <th>started_at</th>\n",
       "      <th>finished_at</th>\n",
       "      <th>geom</th>\n",
       "      <th>continuous_check</th>\n",
       "    </tr>\n",
       "  </thead>\n",
       "  <tbody>\n",
       "    <tr>\n",
       "      <th>418</th>\n",
       "      <td>418</td>\n",
       "      <td>22</td>\n",
       "      <td>2022-09-05 00:36:08-04:00</td>\n",
       "      <td>2022-09-05 14:13:11-04:00</td>\n",
       "      <td>POINT (-81.4952983166666627 30.3301469753333315)</td>\n",
       "      <td>0</td>\n",
       "    </tr>\n",
       "  </tbody>\n",
       "</table>\n",
       "</div>"
      ],
      "text/plain": [
       "      id  user_id                started_at               finished_at  \\\n",
       "418  418       22 2022-09-05 00:36:08-04:00 2022-09-05 14:13:11-04:00   \n",
       "\n",
       "                                                 geom  continuous_check  \n",
       "418  POINT (-81.4952983166666627 30.3301469753333315)                 0  "
      ]
     },
     "execution_count": 12,
     "metadata": {},
     "output_type": "execute_result"
    }
   ],
   "source": [
    "#stop_df[(stop_df['id'] >= 418) & (stop_df['id'] <= 418)]"
   ]
  },
  {
   "cell_type": "code",
   "execution_count": 9,
   "metadata": {},
   "outputs": [
    {
     "name": "stderr",
     "output_type": "stream",
     "text": [
      "100%|██████████| 51663/51663 [02:19<00:00, 370.35it/s]\n"
     ]
    }
   ],
   "source": [
    "data_to_generate = []\n",
    "for sp_id in tqdm(ID_list, total=len(ID_list)):\n",
    "    res = find_trip_before(sp_id)\n",
    "    if res != None:\n",
    "        data_to_generate.append(res)"
   ]
  },
  {
   "cell_type": "code",
   "execution_count": 10,
   "metadata": {},
   "outputs": [
    {
     "data": {
      "text/html": [
       "<div>\n",
       "<style scoped>\n",
       "    .dataframe tbody tr th:only-of-type {\n",
       "        vertical-align: middle;\n",
       "    }\n",
       "\n",
       "    .dataframe tbody tr th {\n",
       "        vertical-align: top;\n",
       "    }\n",
       "\n",
       "    .dataframe thead th {\n",
       "        text-align: right;\n",
       "    }\n",
       "</style>\n",
       "<table border=\"1\" class=\"dataframe\">\n",
       "  <thead>\n",
       "    <tr style=\"text-align: right;\">\n",
       "      <th></th>\n",
       "      <th>deviceID</th>\n",
       "      <th>tripleg_ID</th>\n",
       "      <th>trip_start_location</th>\n",
       "      <th>trip_end_location</th>\n",
       "      <th>trip_start_timestamp</th>\n",
       "      <th>trip_end_timestamp</th>\n",
       "      <th>stop_point_between_trips</th>\n",
       "    </tr>\n",
       "  </thead>\n",
       "  <tbody>\n",
       "    <tr>\n",
       "      <th>0</th>\n",
       "      <td>10</td>\n",
       "      <td>[351]</td>\n",
       "      <td>POINT (-81.63582 30.47943)</td>\n",
       "      <td>POINT (-81.6282599999999974 30.4753866666666688)</td>\n",
       "      <td>2022-09-23 22:00:09-04:00</td>\n",
       "      <td>2022-09-23 23:30:12-04:00</td>\n",
       "      <td>[292, 293, 294]</td>\n",
       "    </tr>\n",
       "    <tr>\n",
       "      <th>1</th>\n",
       "      <td>10</td>\n",
       "      <td>[400]</td>\n",
       "      <td>POINT (-81.64148 30.47423)</td>\n",
       "      <td>POINT (-81.6381994300000002 30.4775205850000006)</td>\n",
       "      <td>2022-10-07 16:01:14-04:00</td>\n",
       "      <td>2022-10-07 16:48:31-04:00</td>\n",
       "      <td>[335]</td>\n",
       "    </tr>\n",
       "    <tr>\n",
       "      <th>2</th>\n",
       "      <td>10</td>\n",
       "      <td>[441]</td>\n",
       "      <td>POINT (-81.63404084 30.48468399)</td>\n",
       "      <td>POINT (-81.6381949999999961 30.4775149999999968)</td>\n",
       "      <td>2022-10-15 21:34:57-04:00</td>\n",
       "      <td>2022-10-15 22:00:32-04:00</td>\n",
       "      <td>[391, 392, 393]</td>\n",
       "    </tr>\n",
       "    <tr>\n",
       "      <th>3</th>\n",
       "      <td>22</td>\n",
       "      <td>[599]</td>\n",
       "      <td>POINT (-81.4048236 30.3449426)</td>\n",
       "      <td>POINT (-81.5571999999999946 30.3170449999999967)</td>\n",
       "      <td>2022-09-05 16:31:44-04:00</td>\n",
       "      <td>2022-09-05 16:49:22-04:00</td>\n",
       "      <td>[418, 419, 420, 421, 422, 423, 424]</td>\n",
       "    </tr>\n",
       "    <tr>\n",
       "      <th>4</th>\n",
       "      <td>22</td>\n",
       "      <td>[602]</td>\n",
       "      <td>POINT (-81.49559 30.3301)</td>\n",
       "      <td>POINT (-81.4864871999999991 30.3180051000000006)</td>\n",
       "      <td>2022-09-05 20:50:07-04:00</td>\n",
       "      <td>2022-09-05 21:26:17-04:00</td>\n",
       "      <td>[428, 429, 430, 431]</td>\n",
       "    </tr>\n",
       "    <tr>\n",
       "      <th>...</th>\n",
       "      <td>...</td>\n",
       "      <td>...</td>\n",
       "      <td>...</td>\n",
       "      <td>...</td>\n",
       "      <td>...</td>\n",
       "      <td>...</td>\n",
       "      <td>...</td>\n",
       "    </tr>\n",
       "    <tr>\n",
       "      <th>21725</th>\n",
       "      <td>34203</td>\n",
       "      <td>[547062, 547063]</td>\n",
       "      <td>POINT (-81.844733 29.042466)</td>\n",
       "      <td>POINT (-81.9723630000000014 29.0721200000000017)</td>\n",
       "      <td>2022-10-23 12:57:04-04:00</td>\n",
       "      <td>2022-10-23 13:47:34-04:00</td>\n",
       "      <td>[432305, 432306]</td>\n",
       "    </tr>\n",
       "    <tr>\n",
       "      <th>21726</th>\n",
       "      <td>34405</td>\n",
       "      <td>[547453]</td>\n",
       "      <td>POINT (-81.613899 30.2684)</td>\n",
       "      <td>POINT (-81.6334250000000026 30.5176349999999985)</td>\n",
       "      <td>2022-10-27 19:34:13-04:00</td>\n",
       "      <td>2022-10-27 20:13:21-04:00</td>\n",
       "      <td>[432539, 432540]</td>\n",
       "    </tr>\n",
       "    <tr>\n",
       "      <th>21727</th>\n",
       "      <td>34471</td>\n",
       "      <td>[547536]</td>\n",
       "      <td>POINT (-82.1313439 29.6967879)</td>\n",
       "      <td>POINT (-82.0870139999999964 29.5994551000000001)</td>\n",
       "      <td>2022-10-20 07:31:35-04:00</td>\n",
       "      <td>2022-10-20 07:46:01-04:00</td>\n",
       "      <td>[432605, 432606]</td>\n",
       "    </tr>\n",
       "    <tr>\n",
       "      <th>21728</th>\n",
       "      <td>34471</td>\n",
       "      <td>[547538]</td>\n",
       "      <td>POINT (-82.18896 29.26703)</td>\n",
       "      <td>POINT (-82.2480800000000016 29.4077100000000016)</td>\n",
       "      <td>2022-10-22 02:41:05-04:00</td>\n",
       "      <td>2022-10-22 03:00:35-04:00</td>\n",
       "      <td>[432607, 432608]</td>\n",
       "    </tr>\n",
       "    <tr>\n",
       "      <th>21729</th>\n",
       "      <td>34472</td>\n",
       "      <td>[547549]</td>\n",
       "      <td>POINT (-81.54434258 30.32230023)</td>\n",
       "      <td>POINT (-81.5574107099999992 30.3225868500000004)</td>\n",
       "      <td>2022-10-26 23:03:49-04:00</td>\n",
       "      <td>2022-10-26 23:45:58-04:00</td>\n",
       "      <td>[432627]</td>\n",
       "    </tr>\n",
       "  </tbody>\n",
       "</table>\n",
       "<p>21730 rows × 7 columns</p>\n",
       "</div>"
      ],
      "text/plain": [
       "       deviceID        tripleg_ID               trip_start_location  \\\n",
       "0            10             [351]        POINT (-81.63582 30.47943)   \n",
       "1            10             [400]        POINT (-81.64148 30.47423)   \n",
       "2            10             [441]  POINT (-81.63404084 30.48468399)   \n",
       "3            22             [599]    POINT (-81.4048236 30.3449426)   \n",
       "4            22             [602]         POINT (-81.49559 30.3301)   \n",
       "...         ...               ...                               ...   \n",
       "21725     34203  [547062, 547063]      POINT (-81.844733 29.042466)   \n",
       "21726     34405          [547453]        POINT (-81.613899 30.2684)   \n",
       "21727     34471          [547536]    POINT (-82.1313439 29.6967879)   \n",
       "21728     34471          [547538]        POINT (-82.18896 29.26703)   \n",
       "21729     34472          [547549]  POINT (-81.54434258 30.32230023)   \n",
       "\n",
       "                                      trip_end_location  \\\n",
       "0      POINT (-81.6282599999999974 30.4753866666666688)   \n",
       "1      POINT (-81.6381994300000002 30.4775205850000006)   \n",
       "2      POINT (-81.6381949999999961 30.4775149999999968)   \n",
       "3      POINT (-81.5571999999999946 30.3170449999999967)   \n",
       "4      POINT (-81.4864871999999991 30.3180051000000006)   \n",
       "...                                                 ...   \n",
       "21725  POINT (-81.9723630000000014 29.0721200000000017)   \n",
       "21726  POINT (-81.6334250000000026 30.5176349999999985)   \n",
       "21727  POINT (-82.0870139999999964 29.5994551000000001)   \n",
       "21728  POINT (-82.2480800000000016 29.4077100000000016)   \n",
       "21729  POINT (-81.5574107099999992 30.3225868500000004)   \n",
       "\n",
       "           trip_start_timestamp        trip_end_timestamp  \\\n",
       "0     2022-09-23 22:00:09-04:00 2022-09-23 23:30:12-04:00   \n",
       "1     2022-10-07 16:01:14-04:00 2022-10-07 16:48:31-04:00   \n",
       "2     2022-10-15 21:34:57-04:00 2022-10-15 22:00:32-04:00   \n",
       "3     2022-09-05 16:31:44-04:00 2022-09-05 16:49:22-04:00   \n",
       "4     2022-09-05 20:50:07-04:00 2022-09-05 21:26:17-04:00   \n",
       "...                         ...                       ...   \n",
       "21725 2022-10-23 12:57:04-04:00 2022-10-23 13:47:34-04:00   \n",
       "21726 2022-10-27 19:34:13-04:00 2022-10-27 20:13:21-04:00   \n",
       "21727 2022-10-20 07:31:35-04:00 2022-10-20 07:46:01-04:00   \n",
       "21728 2022-10-22 02:41:05-04:00 2022-10-22 03:00:35-04:00   \n",
       "21729 2022-10-26 23:03:49-04:00 2022-10-26 23:45:58-04:00   \n",
       "\n",
       "                  stop_point_between_trips  \n",
       "0                          [292, 293, 294]  \n",
       "1                                    [335]  \n",
       "2                          [391, 392, 393]  \n",
       "3      [418, 419, 420, 421, 422, 423, 424]  \n",
       "4                     [428, 429, 430, 431]  \n",
       "...                                    ...  \n",
       "21725                     [432305, 432306]  \n",
       "21726                     [432539, 432540]  \n",
       "21727                     [432605, 432606]  \n",
       "21728                     [432607, 432608]  \n",
       "21729                             [432627]  \n",
       "\n",
       "[21730 rows x 7 columns]"
      ]
     },
     "execution_count": 10,
     "metadata": {},
     "output_type": "execute_result"
    }
   ],
   "source": [
    "output_df = pd.DataFrame.from_records(data_to_generate)\n",
    "output_df"
   ]
  },
  {
   "cell_type": "code",
   "execution_count": null,
   "metadata": {},
   "outputs": [],
   "source": [
    "output_df.to_csv('food_related_tour.csv')"
   ]
  }
 ],
 "metadata": {
  "kernelspec": {
   "display_name": "Python 3",
   "language": "python",
   "name": "python3"
  },
  "language_info": {
   "codemirror_mode": {
    "name": "ipython",
    "version": 3
   },
   "file_extension": ".py",
   "mimetype": "text/x-python",
   "name": "python",
   "nbconvert_exporter": "python",
   "pygments_lexer": "ipython3",
   "version": "3.10.6"
  },
  "orig_nbformat": 4
 },
 "nbformat": 4,
 "nbformat_minor": 2
}
