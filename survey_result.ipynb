{
 "cells": [
  {
   "cell_type": "code",
   "execution_count": 25,
   "metadata": {},
   "outputs": [],
   "source": [
    "import os\n",
    "os.environ['USE_PYGEOS'] = '0'\n",
    "import geopandas\n",
    "import trackintel as ti\n",
    "import pandas as pd\n",
    "import pyproj\n",
    "import numpy as np\n",
    "import warnings\n",
    "from shapely.wkt import loads\n",
    "import datetime\n",
    "from shapely import wkt, Point\n"
   ]
  },
  {
   "cell_type": "code",
   "execution_count": 2,
   "metadata": {},
   "outputs": [],
   "source": [
    "df = pd.read_csv('part_0.csv.gz.csv')\n",
    "columns_to_keep = ['grid', 'latitude', 'longitude', 'time']\n",
    "newdf = df[columns_to_keep].copy()\n",
    "newdf = newdf.rename(columns={'grid': 'user_id'}) \n",
    "newdf['user_id'] = pd.factorize(newdf['user_id'])[0]\n",
    "newdf.to_csv('temp/data.csv')"
   ]
  },
  {
   "attachments": {},
   "cell_type": "markdown",
   "metadata": {},
   "source": [
    "## Stop Inference"
   ]
  },
  {
   "cell_type": "code",
   "execution_count": 3,
   "metadata": {},
   "outputs": [],
   "source": [
    "pfs = ti.io.file.read_positionfixes_csv('temp/data.csv', \n",
    "                                        columns={'user_id':'user_id', 'latitude':'latitude', 'longitude':'longitude', 'time':'tracked_at'},\n",
    "                                        tz= 'America/New_York',\n",
    "                                        crs ='EPSG:4326',\n",
    "                                        index_col = 0)"
   ]
  },
  {
   "cell_type": "code",
   "execution_count": 4,
   "metadata": {},
   "outputs": [
    {
     "name": "stderr",
     "output_type": "stream",
     "text": [
      "/usr/local/lib/python3.9/site-packages/pygeos/io.py:89: UserWarning: The shapely GEOS version (3.11.1-CAPI-1.17.1) is incompatible with the PyGEOS GEOS version (3.10.4-CAPI-1.16.2). Conversions between both will be slow\n",
      "  warnings.warn(\n"
     ]
    }
   ],
   "source": [
    "# generate staypoints\n",
    "pfs, sp = pfs.as_positionfixes.generate_staypoints(method='sliding', distance_metric='haversine', dist_threshold=100, time_threshold=5.0, gap_threshold=720.0)"
   ]
  },
  {
   "attachments": {},
   "cell_type": "markdown",
   "metadata": {},
   "source": [
    "## Trip Inference"
   ]
  },
  {
   "cell_type": "code",
   "execution_count": 5,
   "metadata": {},
   "outputs": [
    {
     "name": "stderr",
     "output_type": "stream",
     "text": [
      "/usr/local/lib/python3.9/site-packages/trackintel/preprocessing/positionfixes.py:498: UserWarning: The positionfixes with ids [    26     27     77 ... 170963 171009 171010] lead to invalid tripleg geometries. The resulting triplegs were omitted and the tripleg id of the positionfixes was set to nan\n",
      "  warnings.warn(warn_string)\n"
     ]
    }
   ],
   "source": [
    "pfs, tpls = pfs.as_positionfixes.generate_triplegs(sp, method='between_staypoints', gap_threshold = 60)"
   ]
  },
  {
   "cell_type": "code",
   "execution_count": 6,
   "metadata": {},
   "outputs": [],
   "source": [
    "# Write positionfixes to csv file.\n",
    "ti.io.file.write_positionfixes_csv(pfs, 'temp/pfs.csv')\n",
    "# Write staypoints to csv file.\n",
    "ti.io.file.write_staypoints_csv(sp, 'temp/staypoints.csv')\n",
    "# Write triplegs to csv file.\n",
    "ti.io.file.write_triplegs_csv(tpls, 'temp/triplegs.csv')"
   ]
  },
  {
   "attachments": {},
   "cell_type": "markdown",
   "metadata": {},
   "source": [
    "## Home Inference"
   ]
  },
  {
   "cell_type": "code",
   "execution_count": 7,
   "metadata": {},
   "outputs": [],
   "source": [
    "ID_list=sp['user_id'].unique()\n",
    "ndf = newdf[newdf['user_id'].isin(ID_list)]"
   ]
  },
  {
   "attachments": {},
   "cell_type": "markdown",
   "metadata": {},
   "source": [
    "<h3>Add columns Lat-3856 and Lon-3857 with EPSG:3857</h3>"
   ]
  },
  {
   "cell_type": "code",
   "execution_count": 8,
   "metadata": {},
   "outputs": [
    {
     "name": "stderr",
     "output_type": "stream",
     "text": [
      "/var/folders/vy/m0tbb9cx2m176wk361h4ns900000gn/T/ipykernel_28423/2684743735.py:8: SettingWithCopyWarning: \n",
      "A value is trying to be set on a copy of a slice from a DataFrame.\n",
      "Try using .loc[row_indexer,col_indexer] = value instead\n",
      "\n",
      "See the caveats in the documentation: https://pandas.pydata.org/pandas-docs/stable/user_guide/indexing.html#returning-a-view-versus-a-copy\n",
      "  ndf.at[idx, 'Lat-3857'] = y\n",
      "/var/folders/vy/m0tbb9cx2m176wk361h4ns900000gn/T/ipykernel_28423/2684743735.py:9: SettingWithCopyWarning: \n",
      "A value is trying to be set on a copy of a slice from a DataFrame.\n",
      "Try using .loc[row_indexer,col_indexer] = value instead\n",
      "\n",
      "See the caveats in the documentation: https://pandas.pydata.org/pandas-docs/stable/user_guide/indexing.html#returning-a-view-versus-a-copy\n",
      "  ndf.at[idx, 'Lon-3857'] = x\n"
     ]
    }
   ],
   "source": [
    "# Create a transformer object to convert from EPSG 4326 (WGS84) to EPSG 3857 (Web Mercator)\n",
    "transformer = pyproj.Transformer.from_crs(\"EPSG:4326\", \"EPSG:3857\", always_xy=True)\n",
    "\n",
    "# Iterate over rows and apply the transformer to convert the coordinates\n",
    "for idx, row in ndf.iterrows():\n",
    "    lat, lon = row['latitude'], row['longitude']\n",
    "    x, y = transformer.transform(lon, lat)\n",
    "    ndf.at[idx, 'Lat-3857'] = y\n",
    "    ndf.at[idx, 'Lon-3857'] = x"
   ]
  },
  {
   "cell_type": "code",
   "execution_count": 9,
   "metadata": {},
   "outputs": [],
   "source": [
    "import warnings\n",
    "warnings.simplefilter(action='ignore', category=FutureWarning)\n",
    "def home_location(input_df,s_hour=22,t_hour=6):\n",
    "    '''\n",
    "    ndf: gps data\n",
    "    s_hour: define start time of night, defult = 22\n",
    "    t_hour: define end time of night, defult = 6\n",
    "    '''\n",
    "    input_df['time']=pd.to_datetime(input_df['time'], infer_datetime_format=True)\n",
    "    input_df['date']=input_df['time'].dt.date\n",
    "    input_df['hour']=pd.Series(input_df['time']).dt.hour\n",
    "    \n",
    "    input_df['LAT_Grid']=np.round(input_df['Lat-3857']/20)*20  # Grid size = 20m\n",
    "    input_df['LON_Grid']=np.round(input_df['Lon-3857']/20)*20\n",
    "    id=input_df.iloc[0,0]\n",
    "    input_df=input_df[(input_df['hour']>=s_hour)|(input_df['hour']<t_hour)]\n",
    "\n",
    "    if len(input_df)==0:  # if no signal during the night, return NaN\n",
    "        return np.nan,np.nan\n",
    "    home = input_df.groupby(['LAT_Grid','LON_Grid'])['date'].nunique().idxmax()\n",
    "    return home[0],home[1]"
   ]
  },
  {
   "cell_type": "code",
   "execution_count": 10,
   "metadata": {},
   "outputs": [
    {
     "data": {
      "text/html": [
       "<div>\n",
       "<style scoped>\n",
       "    .dataframe tbody tr th:only-of-type {\n",
       "        vertical-align: middle;\n",
       "    }\n",
       "\n",
       "    .dataframe tbody tr th {\n",
       "        vertical-align: top;\n",
       "    }\n",
       "\n",
       "    .dataframe thead th {\n",
       "        text-align: right;\n",
       "    }\n",
       "</style>\n",
       "<table border=\"1\" class=\"dataframe\">\n",
       "  <thead>\n",
       "    <tr style=\"text-align: right;\">\n",
       "      <th></th>\n",
       "      <th>user_id</th>\n",
       "      <th>LAT</th>\n",
       "      <th>LON</th>\n",
       "    </tr>\n",
       "  </thead>\n",
       "  <tbody>\n",
       "    <tr>\n",
       "      <th>0</th>\n",
       "      <td>0</td>\n",
       "      <td>3399820.0</td>\n",
       "      <td>-9133880.0</td>\n",
       "    </tr>\n",
       "    <tr>\n",
       "      <th>0</th>\n",
       "      <td>3</td>\n",
       "      <td>3564660.0</td>\n",
       "      <td>-9087920.0</td>\n",
       "    </tr>\n",
       "    <tr>\n",
       "      <th>0</th>\n",
       "      <td>5</td>\n",
       "      <td>3456120.0</td>\n",
       "      <td>-9175080.0</td>\n",
       "    </tr>\n",
       "    <tr>\n",
       "      <th>0</th>\n",
       "      <td>6</td>\n",
       "      <td>3464520.0</td>\n",
       "      <td>-9173200.0</td>\n",
       "    </tr>\n",
       "    <tr>\n",
       "      <th>0</th>\n",
       "      <td>9</td>\n",
       "      <td>3546060.0</td>\n",
       "      <td>-9072020.0</td>\n",
       "    </tr>\n",
       "    <tr>\n",
       "      <th>...</th>\n",
       "      <td>...</td>\n",
       "      <td>...</td>\n",
       "      <td>...</td>\n",
       "    </tr>\n",
       "    <tr>\n",
       "      <th>0</th>\n",
       "      <td>1922</td>\n",
       "      <td>3375500.0</td>\n",
       "      <td>-9049420.0</td>\n",
       "    </tr>\n",
       "    <tr>\n",
       "      <th>0</th>\n",
       "      <td>1924</td>\n",
       "      <td>3565060.0</td>\n",
       "      <td>-9081220.0</td>\n",
       "    </tr>\n",
       "    <tr>\n",
       "      <th>0</th>\n",
       "      <td>1929</td>\n",
       "      <td>3501100.0</td>\n",
       "      <td>-9060680.0</td>\n",
       "    </tr>\n",
       "    <tr>\n",
       "      <th>0</th>\n",
       "      <td>1930</td>\n",
       "      <td>3493100.0</td>\n",
       "      <td>-9223940.0</td>\n",
       "    </tr>\n",
       "    <tr>\n",
       "      <th>0</th>\n",
       "      <td>1931</td>\n",
       "      <td>3531660.0</td>\n",
       "      <td>-9080140.0</td>\n",
       "    </tr>\n",
       "  </tbody>\n",
       "</table>\n",
       "<p>846 rows × 3 columns</p>\n",
       "</div>"
      ],
      "text/plain": [
       "   user_id        LAT        LON\n",
       "0        0  3399820.0 -9133880.0\n",
       "0        3  3564660.0 -9087920.0\n",
       "0        5  3456120.0 -9175080.0\n",
       "0        6  3464520.0 -9173200.0\n",
       "0        9  3546060.0 -9072020.0\n",
       "..     ...        ...        ...\n",
       "0     1922  3375500.0 -9049420.0\n",
       "0     1924  3565060.0 -9081220.0\n",
       "0     1929  3501100.0 -9060680.0\n",
       "0     1930  3493100.0 -9223940.0\n",
       "0     1931  3531660.0 -9080140.0\n",
       "\n",
       "[846 rows x 3 columns]"
      ]
     },
     "execution_count": 10,
     "metadata": {},
     "output_type": "execute_result"
    }
   ],
   "source": [
    "home=pd.DataFrame(columns=['user_id','LAT','LON']) # initial a DataFrame to save home location\n",
    "\n",
    "for i in ID_list[0:]: \n",
    "    dffh=ndf[ndf['user_id']==i].sort_values('time',axis=0,ascending=True) # extract records\n",
    "    h_lat,h_lon=home_location(dffh) # calculate home location\n",
    "    home=home.append(pd.DataFrame([[i,h_lat,h_lon]],columns=['user_id','LAT','LON'])) # append the new row \n",
    "    \n",
    "nan_df = home[home.isna().any(axis=1)]\n",
    "home.dropna(subset=['LAT'], inplace=True)\n",
    "home"
   ]
  },
  {
   "cell_type": "code",
   "execution_count": 11,
   "metadata": {},
   "outputs": [],
   "source": [
    "ID_list=nan_df['user_id'].unique()\n",
    "#check if a date is in saturday or sunday.\n",
    "def is_weekend(date):\n",
    "    return date.weekday() in [5, 6]\n",
    "\n",
    "def home_location(input_df):\n",
    "    '''\n",
    "    ndf: gps data\n",
    "    '''\n",
    "    input_df['time']=pd.to_datetime(input_df['time'], infer_datetime_format=True)\n",
    "    input_df['date']=input_df['time'].dt.date\n",
    "    input_df['hour']=pd.Series(input_df['time']).dt.hour\n",
    "    \n",
    "    input_df['LAT_Grid']=np.round(input_df['Lat-3857']/20)*20  # Grid size = 20m\n",
    "    input_df['LON_Grid']=np.round(input_df['Lon-3857']/20)*20\n",
    "    input_df= input_df[input_df['date'].apply(is_weekend)]\n",
    "    \n",
    "    if len(input_df)==0: \n",
    "        return np.nan,np.nan\n",
    "    home2 = input_df.groupby(['LAT_Grid','LON_Grid']).count()['user_id'].idxmax()\n",
    "    return home2[0],home2[1]"
   ]
  },
  {
   "cell_type": "code",
   "execution_count": 12,
   "metadata": {},
   "outputs": [],
   "source": [
    "home2=pd.DataFrame(columns=['user_id','LAT','LON']) # initial a DataFrame to save home location\n",
    "\n",
    "for i in ID_list[0:]: \n",
    "    dffh=ndf[ndf['user_id']==i].sort_values('time',axis=0,ascending=True) # extract records\n",
    "    h_lat,h_lon=home_location(dffh) # calculate home location\n",
    "    home2=home2.append(pd.DataFrame([[i,h_lat,h_lon]],columns=['user_id','LAT','LON'])) # append the new row "
   ]
  },
  {
   "cell_type": "code",
   "execution_count": 13,
   "metadata": {},
   "outputs": [],
   "source": [
    "home2.dropna(subset=['LAT'], inplace=True)\n",
    "new_home = pd.concat([home, home2], ignore_index=True)\n",
    "\n",
    "# Create a transformer object to convert from EPSG 3857 (Web Mercator) to EPSG 4326 (WGS84)\n",
    "inputGrid = pyproj.Proj(projparams='epsg:3857')\n",
    "wgs84 = pyproj.Proj(projparams='epsg:4326')\n",
    "\n",
    "new_home = new_home.reset_index(drop=True)\n",
    "\n",
    "# Iterate over rows and apply the transformer to convert the coordinates\n",
    "for idx, row in new_home.iterrows():\n",
    "    lat, lon = pyproj.transform(inputGrid, wgs84, row['LON'], row['LAT'])\n",
    "    new_home.at[idx, 'LAT-4326'] = lat\n",
    "    new_home.at[idx, 'LON-4326'] = lon\n",
    "\n",
    "# Print the updated DataFrame\n",
    "new_home.to_csv('temp/home_location.csv')"
   ]
  },
  {
   "attachments": {},
   "cell_type": "markdown",
   "metadata": {},
   "source": [
    "## Food Inference"
   ]
  },
  {
   "cell_type": "code",
   "execution_count": 14,
   "metadata": {},
   "outputs": [],
   "source": [
    "stop_point_df = pd.read_csv('temp/staypoints.csv')\n",
    "retail_pd = pd.read_csv('retail.csv')"
   ]
  },
  {
   "cell_type": "code",
   "execution_count": 15,
   "metadata": {},
   "outputs": [],
   "source": [
    "def is_close(dist, latA1, lonA2, latB1, lonB2):\n",
    "    # Create shapely Point objects from the locations\n",
    "    point1 = Point(lonA2, latA1)\n",
    "    point2 = Point(lonB2, latB1)\n",
    "    \n",
    "    # Calculate distance between points in meters\n",
    "    distance = point1.distance(point2) * 111319.9\n",
    "    \n",
    "    # Return True if distance is less than or equal to dist meters\n",
    "    return distance <= dist"
   ]
  },
  {
   "cell_type": "code",
   "execution_count": 16,
   "metadata": {},
   "outputs": [],
   "source": [
    "count = 0\n",
    "warnings.simplefilter(action='ignore', category=Warning)\n",
    "data_to_append_list = []\n",
    "for sp in stop_point_df.itertuples():\n",
    "    p = loads(sp[5])\n",
    "    lat = p.y\n",
    "    lon = p.x\n",
    "    \n",
    "    for row in retail_pd.itertuples():\n",
    "        if is_close(200, float(row[12]), float(row[11]), lat, lon):\n",
    "            count += 1\n",
    "            \n",
    "            data_to_append = {'id': sp[1], 'user_id': sp[2], 'started_at': sp[3], 'finished_at': sp[4], 'lat': lat, 'lon': lon, 'retail_id': row[1], \n",
    "                                'retail_lat': float(row[12]), 'retail_lon': float(row[11])}\n",
    "            data_to_append_list.append(data_to_append)\n",
    "            \n",
    "            break\n",
    "\n",
    "new_df = pd.DataFrame.from_records(data_to_append_list)\n",
    "new_df.to_csv('temp/food_inference_200.csv')"
   ]
  },
  {
   "attachments": {},
   "cell_type": "markdown",
   "metadata": {},
   "source": [
    "## Food trip inference"
   ]
  },
  {
   "cell_type": "code",
   "execution_count": 20,
   "metadata": {},
   "outputs": [],
   "source": [
    "tripleg = pd.read_csv('temp/triplegs.csv')\n",
    "stop_df = pd.read_csv('temp/staypoints.csv')\n",
    "food_sp_df = pd.read_csv('temp/food_inference_200.csv')\n"
   ]
  },
  {
   "cell_type": "code",
   "execution_count": 21,
   "metadata": {},
   "outputs": [],
   "source": [
    "stop_df['started_at'] = pd.to_datetime(stop_df['started_at'])\n",
    "stop_df['finished_at'] = pd.to_datetime(stop_df['finished_at'])\n",
    "tripleg['finished_at'] = pd.to_datetime(tripleg['finished_at'])\n",
    "tripleg['started_at'] = pd.to_datetime(tripleg['started_at'])\n",
    "stop_df['continuous_check'] = ((stop_df['user_id'] == stop_df['user_id'].shift()) & (stop_df['started_at'] == stop_df['finished_at'].shift())).astype(int)"
   ]
  },
  {
   "cell_type": "code",
   "execution_count": 22,
   "metadata": {},
   "outputs": [],
   "source": [
    "ID_list=food_sp_df['id'].unique()\n",
    "def find_trip_before(stay_point_id, time_window = 15):\n",
    "    time_window = datetime.timedelta(minutes=time_window)\n",
    "    sp = stop_df[stop_df['id'] == stay_point_id]\n",
    "    stop_of_user = stop_df[(stop_df['user_id'] == sp.iloc[0]['user_id']) & (stop_df['id'] <= stay_point_id)]\n",
    "    related_tripled_by_user = tripleg[tripleg['user_id'] == sp.iloc[0]['user_id']]\n",
    "    \n",
    "    trip_traveled = []\n",
    "    stop_point_traveled = []\n",
    "    # temp_stop_list = []\n",
    "\n",
    "    i = len(stop_of_user) - 1\n",
    "    while i >= 0 and stop_of_user.iloc[i]['continuous_check'] == 1:\n",
    "        stop_point_traveled.insert(0, stop_of_user.iloc[i]['id'])\n",
    "        # temp_stop_list.insert(0, stop_of_user.iloc[i]['id'])\n",
    "        i -= 1\n",
    "    # if len(temp_stop_list) == 0: temp_stop_list.append(stay_point_id)\n",
    "\n",
    "    while i >= 0:\n",
    "\n",
    "        tripled_found = related_tripled_by_user[\n",
    "            (related_tripled_by_user['finished_at'] > stop_of_user.iloc[i]['started_at'] - time_window) &\n",
    "            (related_tripled_by_user['finished_at'] <= stop_of_user.iloc[i]['started_at'])]\n",
    "        \n",
    "        #try to find trip\n",
    "        if len(tripled_found) > 0:\n",
    "            if len(tripled_found) > 1: tripled_found = tripled_found.nlargest(1, 'finished_at')\n",
    "            trip_traveled.insert(0, tripled_found.iloc[0]['id'])\n",
    "        #in this case, no trip or stop point were found, end program.\n",
    "        elif i - 1 >= 0 and stop_of_user.iloc[i]['started_at'] - stop_of_user.iloc[i - 1]['finished_at'] > time_window: \n",
    "            stop_point_traveled.insert(0, stop_of_user.iloc[i]['id'])\n",
    "            break\n",
    "        \n",
    "        # if len(temp_stop_list) == 0: temp_stop_list.insert(0, stop_of_user.iloc[i]['id'])\n",
    "        # temp_stop_list = []\n",
    "        stop_point_traveled.insert(0, stop_of_user.iloc[i]['id'])\n",
    "\n",
    "        i -= 1\n",
    "        if len(tripled_found) > 0 and tripled_found.iloc[0]['started_at'] != stop_of_user.iloc[i]['finished_at']: break\n",
    "\n",
    "        while i >= 0 and stop_of_user.iloc[i]['continuous_check'] == 1:\n",
    "            # temp_stop_list.insert(0, stop_of_user.iloc[i]['id'])\n",
    "            stop_point_traveled.insert(0, stop_of_user.iloc[i]['id'])\n",
    "            i -= 1\n",
    "            \n",
    "    if len(trip_traveled) == 0: return None\n",
    "    fist_trip = related_tripled_by_user[related_tripled_by_user['id'] == trip_traveled[0]]\n",
    "    data_to_append = {'deviceID': sp.iloc[0]['user_id'], 'tripleg_ID': trip_traveled, \n",
    "                          'trip_start_location': Point(list(wkt.loads(fist_trip.iloc[0]['geom']).coords)[0]),\n",
    "                          'trip_end_location': sp.iloc[0]['geom'],\n",
    "                          'trip_start_timestamp': fist_trip.iloc[0]['started_at'],\n",
    "                          'trip_end_timestamp': sp.iloc[0]['finished_at'],\n",
    "                          'stop_point_between_trips': stop_point_traveled}\n",
    "\n",
    "    return data_to_append"
   ]
  },
  {
   "cell_type": "code",
   "execution_count": 26,
   "metadata": {},
   "outputs": [],
   "source": [
    "data_to_generate = []\n",
    "for sp_id in ID_list:\n",
    "    res = find_trip_before(sp_id)\n",
    "    if res != None:\n",
    "        data_to_generate.append(res)\n",
    "output_df = pd.DataFrame.from_records(data_to_generate)\n",
    "output_df.to_csv('temp/food_related_tour.csv')"
   ]
  }
 ],
 "metadata": {
  "kernelspec": {
   "display_name": "Python 3",
   "language": "python",
   "name": "python3"
  },
  "language_info": {
   "codemirror_mode": {
    "name": "ipython",
    "version": 3
   },
   "file_extension": ".py",
   "mimetype": "text/x-python",
   "name": "python",
   "nbconvert_exporter": "python",
   "pygments_lexer": "ipython3",
   "version": "3.9.12"
  },
  "orig_nbformat": 4
 },
 "nbformat": 4,
 "nbformat_minor": 2
}
